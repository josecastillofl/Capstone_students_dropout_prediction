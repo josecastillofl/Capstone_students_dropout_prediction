{
 "cells": [
  {
   "cell_type": "markdown",
   "metadata": {},
   "source": [
    "# Predict student's dropout and academic success "
   ]
  },
  {
   "cell_type": "markdown",
   "metadata": {},
   "source": [
    "By Jose Castillo"
   ]
  },
  {
   "cell_type": "markdown",
   "metadata": {},
   "source": [
    "## Business Understanding"
   ]
  },
  {
   "cell_type": "markdown",
   "metadata": {},
   "source": [
    "For this project we are looking to identify patterns between what makes a student graduate or dropout. We are going to look at several factors like economic backgroud, martial status, nacionality, and more. "
   ]
  },
  {
   "cell_type": "markdown",
   "metadata": {},
   "source": [
    "## Data Understanding "
   ]
  },
  {
   "cell_type": "code",
   "execution_count": 78,
   "metadata": {},
   "outputs": [],
   "source": [
    "import pandas as pd\n",
    "import numpy as np\n",
    "import matplotlib.pyplot as plt\n",
    "import seaborn as sns\n",
    "\n",
    "from sklearn.model_selection import train_test_split\n",
    "from sklearn.preprocessing import StandardScaler, OneHotEncoder\n",
    "from sklearn.compose import ColumnTransformer\n",
    "from sklearn.pipeline import Pipeline\n",
    "from sklearn.decomposition import PCA\n",
    "from sklearn.metrics import accuracy_score\n",
    "\n",
    "from sklearn.linear_model import LogisticRegression\n",
    "from sklearn.ensemble import RandomForestClassifier, GradientBoostingClassifier\n",
    "from sklearn.neighbors import KNeighborsClassifier\n",
    "\n",
    "from sklearn.model_selection import GridSearchCV\n",
    "from sklearn.metrics import confusion_matrix\n",
    "\n",
    "import tensorflow as tf"
   ]
  },
  {
   "cell_type": "code",
   "execution_count": 2,
   "metadata": {},
   "outputs": [],
   "source": [
    "# import data\n",
    "\n",
    "data = pd.read_csv('data/dataset.csv')"
   ]
  },
  {
   "cell_type": "code",
   "execution_count": 3,
   "metadata": {},
   "outputs": [
    {
     "data": {
      "text/html": [
       "<div>\n",
       "<style scoped>\n",
       "    .dataframe tbody tr th:only-of-type {\n",
       "        vertical-align: middle;\n",
       "    }\n",
       "\n",
       "    .dataframe tbody tr th {\n",
       "        vertical-align: top;\n",
       "    }\n",
       "\n",
       "    .dataframe thead th {\n",
       "        text-align: right;\n",
       "    }\n",
       "</style>\n",
       "<table border=\"1\" class=\"dataframe\">\n",
       "  <thead>\n",
       "    <tr style=\"text-align: right;\">\n",
       "      <th></th>\n",
       "      <th>Marital status</th>\n",
       "      <th>Application mode</th>\n",
       "      <th>Application order</th>\n",
       "      <th>Course</th>\n",
       "      <th>Daytime/evening attendance</th>\n",
       "      <th>Previous qualification</th>\n",
       "      <th>Nacionality</th>\n",
       "      <th>Mother's qualification</th>\n",
       "      <th>Father's qualification</th>\n",
       "      <th>Mother's occupation</th>\n",
       "      <th>...</th>\n",
       "      <th>Curricular units 2nd sem (credited)</th>\n",
       "      <th>Curricular units 2nd sem (enrolled)</th>\n",
       "      <th>Curricular units 2nd sem (evaluations)</th>\n",
       "      <th>Curricular units 2nd sem (approved)</th>\n",
       "      <th>Curricular units 2nd sem (grade)</th>\n",
       "      <th>Curricular units 2nd sem (without evaluations)</th>\n",
       "      <th>Unemployment rate</th>\n",
       "      <th>Inflation rate</th>\n",
       "      <th>GDP</th>\n",
       "      <th>Target</th>\n",
       "    </tr>\n",
       "  </thead>\n",
       "  <tbody>\n",
       "    <tr>\n",
       "      <th>0</th>\n",
       "      <td>1</td>\n",
       "      <td>8</td>\n",
       "      <td>5</td>\n",
       "      <td>2</td>\n",
       "      <td>1</td>\n",
       "      <td>1</td>\n",
       "      <td>1</td>\n",
       "      <td>13</td>\n",
       "      <td>10</td>\n",
       "      <td>6</td>\n",
       "      <td>...</td>\n",
       "      <td>0</td>\n",
       "      <td>0</td>\n",
       "      <td>0</td>\n",
       "      <td>0</td>\n",
       "      <td>0.000000</td>\n",
       "      <td>0</td>\n",
       "      <td>10.8</td>\n",
       "      <td>1.4</td>\n",
       "      <td>1.74</td>\n",
       "      <td>Dropout</td>\n",
       "    </tr>\n",
       "    <tr>\n",
       "      <th>1</th>\n",
       "      <td>1</td>\n",
       "      <td>6</td>\n",
       "      <td>1</td>\n",
       "      <td>11</td>\n",
       "      <td>1</td>\n",
       "      <td>1</td>\n",
       "      <td>1</td>\n",
       "      <td>1</td>\n",
       "      <td>3</td>\n",
       "      <td>4</td>\n",
       "      <td>...</td>\n",
       "      <td>0</td>\n",
       "      <td>6</td>\n",
       "      <td>6</td>\n",
       "      <td>6</td>\n",
       "      <td>13.666667</td>\n",
       "      <td>0</td>\n",
       "      <td>13.9</td>\n",
       "      <td>-0.3</td>\n",
       "      <td>0.79</td>\n",
       "      <td>Graduate</td>\n",
       "    </tr>\n",
       "    <tr>\n",
       "      <th>2</th>\n",
       "      <td>1</td>\n",
       "      <td>1</td>\n",
       "      <td>5</td>\n",
       "      <td>5</td>\n",
       "      <td>1</td>\n",
       "      <td>1</td>\n",
       "      <td>1</td>\n",
       "      <td>22</td>\n",
       "      <td>27</td>\n",
       "      <td>10</td>\n",
       "      <td>...</td>\n",
       "      <td>0</td>\n",
       "      <td>6</td>\n",
       "      <td>0</td>\n",
       "      <td>0</td>\n",
       "      <td>0.000000</td>\n",
       "      <td>0</td>\n",
       "      <td>10.8</td>\n",
       "      <td>1.4</td>\n",
       "      <td>1.74</td>\n",
       "      <td>Dropout</td>\n",
       "    </tr>\n",
       "    <tr>\n",
       "      <th>3</th>\n",
       "      <td>1</td>\n",
       "      <td>8</td>\n",
       "      <td>2</td>\n",
       "      <td>15</td>\n",
       "      <td>1</td>\n",
       "      <td>1</td>\n",
       "      <td>1</td>\n",
       "      <td>23</td>\n",
       "      <td>27</td>\n",
       "      <td>6</td>\n",
       "      <td>...</td>\n",
       "      <td>0</td>\n",
       "      <td>6</td>\n",
       "      <td>10</td>\n",
       "      <td>5</td>\n",
       "      <td>12.400000</td>\n",
       "      <td>0</td>\n",
       "      <td>9.4</td>\n",
       "      <td>-0.8</td>\n",
       "      <td>-3.12</td>\n",
       "      <td>Graduate</td>\n",
       "    </tr>\n",
       "    <tr>\n",
       "      <th>4</th>\n",
       "      <td>2</td>\n",
       "      <td>12</td>\n",
       "      <td>1</td>\n",
       "      <td>3</td>\n",
       "      <td>0</td>\n",
       "      <td>1</td>\n",
       "      <td>1</td>\n",
       "      <td>22</td>\n",
       "      <td>28</td>\n",
       "      <td>10</td>\n",
       "      <td>...</td>\n",
       "      <td>0</td>\n",
       "      <td>6</td>\n",
       "      <td>6</td>\n",
       "      <td>6</td>\n",
       "      <td>13.000000</td>\n",
       "      <td>0</td>\n",
       "      <td>13.9</td>\n",
       "      <td>-0.3</td>\n",
       "      <td>0.79</td>\n",
       "      <td>Graduate</td>\n",
       "    </tr>\n",
       "  </tbody>\n",
       "</table>\n",
       "<p>5 rows × 35 columns</p>\n",
       "</div>"
      ],
      "text/plain": [
       "   Marital status  Application mode  Application order  Course  \\\n",
       "0               1                 8                  5       2   \n",
       "1               1                 6                  1      11   \n",
       "2               1                 1                  5       5   \n",
       "3               1                 8                  2      15   \n",
       "4               2                12                  1       3   \n",
       "\n",
       "   Daytime/evening attendance  Previous qualification  Nacionality  \\\n",
       "0                           1                       1            1   \n",
       "1                           1                       1            1   \n",
       "2                           1                       1            1   \n",
       "3                           1                       1            1   \n",
       "4                           0                       1            1   \n",
       "\n",
       "   Mother's qualification  Father's qualification  Mother's occupation  ...  \\\n",
       "0                      13                      10                    6  ...   \n",
       "1                       1                       3                    4  ...   \n",
       "2                      22                      27                   10  ...   \n",
       "3                      23                      27                    6  ...   \n",
       "4                      22                      28                   10  ...   \n",
       "\n",
       "   Curricular units 2nd sem (credited)  Curricular units 2nd sem (enrolled)  \\\n",
       "0                                    0                                    0   \n",
       "1                                    0                                    6   \n",
       "2                                    0                                    6   \n",
       "3                                    0                                    6   \n",
       "4                                    0                                    6   \n",
       "\n",
       "   Curricular units 2nd sem (evaluations)  \\\n",
       "0                                       0   \n",
       "1                                       6   \n",
       "2                                       0   \n",
       "3                                      10   \n",
       "4                                       6   \n",
       "\n",
       "   Curricular units 2nd sem (approved)  Curricular units 2nd sem (grade)  \\\n",
       "0                                    0                          0.000000   \n",
       "1                                    6                         13.666667   \n",
       "2                                    0                          0.000000   \n",
       "3                                    5                         12.400000   \n",
       "4                                    6                         13.000000   \n",
       "\n",
       "   Curricular units 2nd sem (without evaluations)  Unemployment rate  \\\n",
       "0                                               0               10.8   \n",
       "1                                               0               13.9   \n",
       "2                                               0               10.8   \n",
       "3                                               0                9.4   \n",
       "4                                               0               13.9   \n",
       "\n",
       "   Inflation rate   GDP    Target  \n",
       "0             1.4  1.74   Dropout  \n",
       "1            -0.3  0.79  Graduate  \n",
       "2             1.4  1.74   Dropout  \n",
       "3            -0.8 -3.12  Graduate  \n",
       "4            -0.3  0.79  Graduate  \n",
       "\n",
       "[5 rows x 35 columns]"
      ]
     },
     "execution_count": 3,
     "metadata": {},
     "output_type": "execute_result"
    }
   ],
   "source": [
    "# Quick overview of the data\n",
    "\n",
    "data.head()"
   ]
  },
  {
   "cell_type": "code",
   "execution_count": 4,
   "metadata": {
    "scrolled": false
   },
   "outputs": [
    {
     "name": "stdout",
     "output_type": "stream",
     "text": [
      "<class 'pandas.core.frame.DataFrame'>\n",
      "RangeIndex: 4424 entries, 0 to 4423\n",
      "Data columns (total 35 columns):\n",
      " #   Column                                          Non-Null Count  Dtype  \n",
      "---  ------                                          --------------  -----  \n",
      " 0   Marital status                                  4424 non-null   int64  \n",
      " 1   Application mode                                4424 non-null   int64  \n",
      " 2   Application order                               4424 non-null   int64  \n",
      " 3   Course                                          4424 non-null   int64  \n",
      " 4   Daytime/evening attendance                      4424 non-null   int64  \n",
      " 5   Previous qualification                          4424 non-null   int64  \n",
      " 6   Nacionality                                     4424 non-null   int64  \n",
      " 7   Mother's qualification                          4424 non-null   int64  \n",
      " 8   Father's qualification                          4424 non-null   int64  \n",
      " 9   Mother's occupation                             4424 non-null   int64  \n",
      " 10  Father's occupation                             4424 non-null   int64  \n",
      " 11  Displaced                                       4424 non-null   int64  \n",
      " 12  Educational special needs                       4424 non-null   int64  \n",
      " 13  Debtor                                          4424 non-null   int64  \n",
      " 14  Tuition fees up to date                         4424 non-null   int64  \n",
      " 15  Gender                                          4424 non-null   int64  \n",
      " 16  Scholarship holder                              4424 non-null   int64  \n",
      " 17  Age at enrollment                               4424 non-null   int64  \n",
      " 18  International                                   4424 non-null   int64  \n",
      " 19  Curricular units 1st sem (credited)             4424 non-null   int64  \n",
      " 20  Curricular units 1st sem (enrolled)             4424 non-null   int64  \n",
      " 21  Curricular units 1st sem (evaluations)          4424 non-null   int64  \n",
      " 22  Curricular units 1st sem (approved)             4424 non-null   int64  \n",
      " 23  Curricular units 1st sem (grade)                4424 non-null   float64\n",
      " 24  Curricular units 1st sem (without evaluations)  4424 non-null   int64  \n",
      " 25  Curricular units 2nd sem (credited)             4424 non-null   int64  \n",
      " 26  Curricular units 2nd sem (enrolled)             4424 non-null   int64  \n",
      " 27  Curricular units 2nd sem (evaluations)          4424 non-null   int64  \n",
      " 28  Curricular units 2nd sem (approved)             4424 non-null   int64  \n",
      " 29  Curricular units 2nd sem (grade)                4424 non-null   float64\n",
      " 30  Curricular units 2nd sem (without evaluations)  4424 non-null   int64  \n",
      " 31  Unemployment rate                               4424 non-null   float64\n",
      " 32  Inflation rate                                  4424 non-null   float64\n",
      " 33  GDP                                             4424 non-null   float64\n",
      " 34  Target                                          4424 non-null   object \n",
      "dtypes: float64(5), int64(29), object(1)\n",
      "memory usage: 1.2+ MB\n"
     ]
    }
   ],
   "source": [
    "data.info()"
   ]
  },
  {
   "cell_type": "code",
   "execution_count": 5,
   "metadata": {},
   "outputs": [],
   "source": [
    "data.columns = data.columns.str.lower()"
   ]
  },
  {
   "cell_type": "markdown",
   "metadata": {},
   "source": [
    "## Data Preparation"
   ]
  },
  {
   "cell_type": "code",
   "execution_count": 6,
   "metadata": {},
   "outputs": [],
   "source": [
    "# Selecting the columns I'll be working with\n",
    "\n",
    "columns_new_df = ['marital status', 'course', 'daytime/evening attendance', 'displaced', 'debtor', 'tuition fees up to date',\n",
    "                 'gender', 'scholarship holder', 'unemployment rate', 'gdp', 'target']"
   ]
  },
  {
   "cell_type": "code",
   "execution_count": 7,
   "metadata": {},
   "outputs": [],
   "source": [
    "# New clean DF\n",
    "\n",
    "df = data[columns_new_df].copy()"
   ]
  },
  {
   "cell_type": "code",
   "execution_count": 8,
   "metadata": {},
   "outputs": [
    {
     "data": {
      "text/html": [
       "<div>\n",
       "<style scoped>\n",
       "    .dataframe tbody tr th:only-of-type {\n",
       "        vertical-align: middle;\n",
       "    }\n",
       "\n",
       "    .dataframe tbody tr th {\n",
       "        vertical-align: top;\n",
       "    }\n",
       "\n",
       "    .dataframe thead th {\n",
       "        text-align: right;\n",
       "    }\n",
       "</style>\n",
       "<table border=\"1\" class=\"dataframe\">\n",
       "  <thead>\n",
       "    <tr style=\"text-align: right;\">\n",
       "      <th></th>\n",
       "      <th>marital status</th>\n",
       "      <th>course</th>\n",
       "      <th>daytime/evening attendance</th>\n",
       "      <th>displaced</th>\n",
       "      <th>debtor</th>\n",
       "      <th>tuition fees up to date</th>\n",
       "      <th>gender</th>\n",
       "      <th>scholarship holder</th>\n",
       "      <th>unemployment rate</th>\n",
       "      <th>gdp</th>\n",
       "      <th>target</th>\n",
       "    </tr>\n",
       "  </thead>\n",
       "  <tbody>\n",
       "    <tr>\n",
       "      <th>0</th>\n",
       "      <td>1</td>\n",
       "      <td>2</td>\n",
       "      <td>1</td>\n",
       "      <td>1</td>\n",
       "      <td>0</td>\n",
       "      <td>1</td>\n",
       "      <td>1</td>\n",
       "      <td>0</td>\n",
       "      <td>10.8</td>\n",
       "      <td>1.74</td>\n",
       "      <td>Dropout</td>\n",
       "    </tr>\n",
       "    <tr>\n",
       "      <th>1</th>\n",
       "      <td>1</td>\n",
       "      <td>11</td>\n",
       "      <td>1</td>\n",
       "      <td>1</td>\n",
       "      <td>0</td>\n",
       "      <td>0</td>\n",
       "      <td>1</td>\n",
       "      <td>0</td>\n",
       "      <td>13.9</td>\n",
       "      <td>0.79</td>\n",
       "      <td>Graduate</td>\n",
       "    </tr>\n",
       "    <tr>\n",
       "      <th>2</th>\n",
       "      <td>1</td>\n",
       "      <td>5</td>\n",
       "      <td>1</td>\n",
       "      <td>1</td>\n",
       "      <td>0</td>\n",
       "      <td>0</td>\n",
       "      <td>1</td>\n",
       "      <td>0</td>\n",
       "      <td>10.8</td>\n",
       "      <td>1.74</td>\n",
       "      <td>Dropout</td>\n",
       "    </tr>\n",
       "    <tr>\n",
       "      <th>3</th>\n",
       "      <td>1</td>\n",
       "      <td>15</td>\n",
       "      <td>1</td>\n",
       "      <td>1</td>\n",
       "      <td>0</td>\n",
       "      <td>1</td>\n",
       "      <td>0</td>\n",
       "      <td>0</td>\n",
       "      <td>9.4</td>\n",
       "      <td>-3.12</td>\n",
       "      <td>Graduate</td>\n",
       "    </tr>\n",
       "    <tr>\n",
       "      <th>4</th>\n",
       "      <td>2</td>\n",
       "      <td>3</td>\n",
       "      <td>0</td>\n",
       "      <td>0</td>\n",
       "      <td>0</td>\n",
       "      <td>1</td>\n",
       "      <td>0</td>\n",
       "      <td>0</td>\n",
       "      <td>13.9</td>\n",
       "      <td>0.79</td>\n",
       "      <td>Graduate</td>\n",
       "    </tr>\n",
       "  </tbody>\n",
       "</table>\n",
       "</div>"
      ],
      "text/plain": [
       "   marital status  course  daytime/evening attendance  displaced  debtor  \\\n",
       "0               1       2                           1          1       0   \n",
       "1               1      11                           1          1       0   \n",
       "2               1       5                           1          1       0   \n",
       "3               1      15                           1          1       0   \n",
       "4               2       3                           0          0       0   \n",
       "\n",
       "   tuition fees up to date  gender  scholarship holder  unemployment rate  \\\n",
       "0                        1       1                   0               10.8   \n",
       "1                        0       1                   0               13.9   \n",
       "2                        0       1                   0               10.8   \n",
       "3                        1       0                   0                9.4   \n",
       "4                        1       0                   0               13.9   \n",
       "\n",
       "    gdp    target  \n",
       "0  1.74   Dropout  \n",
       "1  0.79  Graduate  \n",
       "2  1.74   Dropout  \n",
       "3 -3.12  Graduate  \n",
       "4  0.79  Graduate  "
      ]
     },
     "execution_count": 8,
     "metadata": {},
     "output_type": "execute_result"
    }
   ],
   "source": [
    "df.head()"
   ]
  },
  {
   "cell_type": "code",
   "execution_count": 9,
   "metadata": {},
   "outputs": [
    {
     "data": {
      "text/plain": [
       "<AxesSubplot:>"
      ]
     },
     "execution_count": 9,
     "metadata": {},
     "output_type": "execute_result"
    },
    {
     "data": {
      "image/png": "[encoded data removed]",
      "text/plain": [
       "<Figure size 720x720 with 2 Axes>"
      ]
     },
     "metadata": {
      "needs_background": "light"
     },
     "output_type": "display_data"
    }
   ],
   "source": [
    "# Check for high correlation between features\n",
    "\n",
    "plt.figure(figsize=(10,10))\n",
    "sns.heatmap(df.corr(), annot = True)"
   ]
  },
  {
   "cell_type": "code",
   "execution_count": 10,
   "metadata": {},
   "outputs": [],
   "source": [
    "# All data types are int or float when in reality are categorical, we'll fix that\n",
    "\n",
    "df['marital status'].replace({ 1 : 'Single', 2 : 'Married', 3 : 'Single', 4 : 'Divorced', \\\n",
    "                               5 : 'Single', 6 : 'Divorced'},\n",
    "                         inplace=True)\n",
    "\n",
    "df['course'].replace({ 1 : 'Biofuel Technologies', 2 : 'Animation', 3 : 'Social Service', 4 : 'Agronomy',\n",
    "                        5 : 'Communication', 6 : 'Veterinary', 7 : \"Informatics Engineering\", 8 : \"Equiniculture\",\n",
    "                        9 : \"Management\", 10 : \"Social Service\", 11 : \"Tourism\", 12 : \"Nursing\", 13 : \"Oral Hygiene\",\n",
    "                        14 : \"Marketing\", 15 : \"Journalism\", 16 : \"Basic Education\", 17 : \"Management\"},\n",
    "                       inplace=True)\n",
    "\n",
    "df['gender'] = df['gender'].apply(lambda x: \"Male\" if x == 1 else \"Female\")\n",
    "\n",
    "df['daytime/evening attendance'] = df['daytime/evening attendance'].apply(lambda x: \"Daytime\" if x == 1 else \"Evening\")\n",
    "\n",
    "df['displaced'] = df['displaced'].apply(lambda x: \"Displaced\" if x == 1 else \"Not displaced\")\n",
    "\n",
    "df['debtor'] = df['debtor'].apply(lambda x: \"Debtor\" if x == 1 else \"No debt\")\n",
    "\n",
    "df['tuition fees up to date'] = df['tuition fees up to date'].apply(lambda x: \"Behind payments\" if x == 1 else \"Up-to-date payments\")\n",
    "\n",
    "df['scholarship holder'] = df['scholarship holder'].apply(lambda x: \"Scholarship\" if x == 1 else \"No scholarship\")"
   ]
  },
  {
   "cell_type": "code",
   "execution_count": 11,
   "metadata": {},
   "outputs": [
    {
     "name": "stdout",
     "output_type": "stream",
     "text": [
      "<class 'pandas.core.frame.DataFrame'>\n",
      "RangeIndex: 4424 entries, 0 to 4423\n",
      "Data columns (total 11 columns):\n",
      " #   Column                      Non-Null Count  Dtype  \n",
      "---  ------                      --------------  -----  \n",
      " 0   marital status              4424 non-null   object \n",
      " 1   course                      4424 non-null   object \n",
      " 2   daytime/evening attendance  4424 non-null   object \n",
      " 3   displaced                   4424 non-null   object \n",
      " 4   debtor                      4424 non-null   object \n",
      " 5   tuition fees up to date     4424 non-null   object \n",
      " 6   gender                      4424 non-null   object \n",
      " 7   scholarship holder          4424 non-null   object \n",
      " 8   unemployment rate           4424 non-null   float64\n",
      " 9   gdp                         4424 non-null   float64\n",
      " 10  target                      4424 non-null   object \n",
      "dtypes: float64(2), object(9)\n",
      "memory usage: 380.3+ KB\n"
     ]
    }
   ],
   "source": [
    "df.info()"
   ]
  },
  {
   "cell_type": "markdown",
   "metadata": {},
   "source": [
    "### Pre-processing"
   ]
  },
  {
   "cell_type": "code",
   "execution_count": 12,
   "metadata": {},
   "outputs": [],
   "source": [
    "# Since our model is trying to predict wether the student will graduate or not, we are going to drop students currently enrolled\n",
    "\n",
    "df1 = df[df['target'] != 'Enrolled']"
   ]
  },
  {
   "cell_type": "code",
   "execution_count": 13,
   "metadata": {},
   "outputs": [],
   "source": [
    "# Separate the categorical and numerical columns\n",
    "\n",
    "categorical_cols = ['marital status', 'course', 'daytime/evening attendance', 'displaced', 'debtor', 'tuition fees up to date',\n",
    "                   'gender', 'scholarship holder']\n",
    "numerical_cols = ['unemployment rate', 'gdp']"
   ]
  },
  {
   "cell_type": "code",
   "execution_count": 14,
   "metadata": {},
   "outputs": [],
   "source": [
    "# OneHotEncoder to our categorical values and Scale our numerical values\n",
    "\n",
    "preprocessor = ColumnTransformer(\n",
    "    transformers=[\n",
    "        ('cat', OneHotEncoder(), categorical_cols),\n",
    "        ('num', StandardScaler(), numerical_cols)\n",
    "    ])"
   ]
  },
  {
   "cell_type": "code",
   "execution_count": 15,
   "metadata": {},
   "outputs": [],
   "source": [
    "X = df1.drop('target', axis=1)\n",
    "y = df1['target']\n",
    "\n",
    "X_train, X_test, y_train, y_test = train_test_split(X, y, test_size = 0.2, random_state=42)"
   ]
  },
  {
   "cell_type": "markdown",
   "metadata": {},
   "source": [
    "## Modeling"
   ]
  },
  {
   "cell_type": "markdown",
   "metadata": {},
   "source": [
    "Since Our model is looking to predict wether the student will graduate or dropout we are going to drop the currently enrolled students"
   ]
  },
  {
   "cell_type": "markdown",
   "metadata": {},
   "source": [
    "#### Logistic Regression"
   ]
  },
  {
   "cell_type": "code",
   "execution_count": 16,
   "metadata": {},
   "outputs": [],
   "source": [
    "log_reg = Pipeline([\n",
    "    ('preprocessor', preprocessor),\n",
    "    ('classifier', LogisticRegression(max_iter=1000))\n",
    "])"
   ]
  },
  {
   "cell_type": "code",
   "execution_count": 17,
   "metadata": {
    "collapsed": true
   },
   "outputs": [
    {
     "data": {
      "text/plain": [
       "Pipeline(steps=[('preprocessor',\n",
       "                 ColumnTransformer(transformers=[('cat', OneHotEncoder(),\n",
       "                                                  ['marital status', 'course',\n",
       "                                                   'daytime/evening attendance',\n",
       "                                                   'displaced', 'debtor',\n",
       "                                                   'tuition fees up to date',\n",
       "                                                   'gender',\n",
       "                                                   'scholarship holder']),\n",
       "                                                 ('num', StandardScaler(),\n",
       "                                                  ['unemployment rate',\n",
       "                                                   'gdp'])])),\n",
       "                ('classifier', LogisticRegression(max_iter=1000))])"
      ]
     },
     "execution_count": 17,
     "metadata": {},
     "output_type": "execute_result"
    }
   ],
   "source": [
    "log_reg.fit(X_train, y_train)"
   ]
  },
  {
   "cell_type": "code",
   "execution_count": 18,
   "metadata": {},
   "outputs": [],
   "source": [
    "y_pred_log = log_reg.predict(X_test)"
   ]
  },
  {
   "cell_type": "code",
   "execution_count": 19,
   "metadata": {},
   "outputs": [
    {
     "name": "stdout",
     "output_type": "stream",
     "text": [
      "Accuracy Score: 0.7589531680440771\n"
     ]
    }
   ],
   "source": [
    "accuracy = accuracy_score(y_test, y_pred_log)\n",
    "print(\"Accuracy Score:\", accuracy)"
   ]
  },
  {
   "cell_type": "markdown",
   "metadata": {},
   "source": [
    "#### Rand Forest"
   ]
  },
  {
   "cell_type": "code",
   "execution_count": 20,
   "metadata": {},
   "outputs": [],
   "source": [
    "rf = Pipeline([\n",
    "    ('preprocessor', preprocessor),\n",
    "    ('classifier', RandomForestClassifier())\n",
    "])"
   ]
  },
  {
   "cell_type": "code",
   "execution_count": 21,
   "metadata": {
    "collapsed": true
   },
   "outputs": [
    {
     "data": {
      "text/plain": [
       "Pipeline(steps=[('preprocessor',\n",
       "                 ColumnTransformer(transformers=[('cat', OneHotEncoder(),\n",
       "                                                  ['marital status', 'course',\n",
       "                                                   'daytime/evening attendance',\n",
       "                                                   'displaced', 'debtor',\n",
       "                                                   'tuition fees up to date',\n",
       "                                                   'gender',\n",
       "                                                   'scholarship holder']),\n",
       "                                                 ('num', StandardScaler(),\n",
       "                                                  ['unemployment rate',\n",
       "                                                   'gdp'])])),\n",
       "                ('classifier', RandomForestClassifier())])"
      ]
     },
     "execution_count": 21,
     "metadata": {},
     "output_type": "execute_result"
    }
   ],
   "source": [
    "rf.fit(X_train, y_train)"
   ]
  },
  {
   "cell_type": "code",
   "execution_count": 22,
   "metadata": {},
   "outputs": [],
   "source": [
    "y_pred_rf = rf.predict(X_test)"
   ]
  },
  {
   "cell_type": "code",
   "execution_count": 23,
   "metadata": {},
   "outputs": [
    {
     "name": "stdout",
     "output_type": "stream",
     "text": [
      "Accuracy Score: 0.7534435261707989\n"
     ]
    }
   ],
   "source": [
    "accuracy = accuracy_score(y_test, y_pred_rf)\n",
    "print(\"Accuracy Score:\", accuracy)"
   ]
  },
  {
   "cell_type": "markdown",
   "metadata": {},
   "source": [
    "#### KNN"
   ]
  },
  {
   "cell_type": "code",
   "execution_count": 24,
   "metadata": {},
   "outputs": [],
   "source": [
    "knn = Pipeline([\n",
    "    ('preprocessor', preprocessor),\n",
    "    ('classifier', KNeighborsClassifier())\n",
    "])"
   ]
  },
  {
   "cell_type": "code",
   "execution_count": 25,
   "metadata": {
    "collapsed": true
   },
   "outputs": [
    {
     "data": {
      "text/plain": [
       "Pipeline(steps=[('preprocessor',\n",
       "                 ColumnTransformer(transformers=[('cat', OneHotEncoder(),\n",
       "                                                  ['marital status', 'course',\n",
       "                                                   'daytime/evening attendance',\n",
       "                                                   'displaced', 'debtor',\n",
       "                                                   'tuition fees up to date',\n",
       "                                                   'gender',\n",
       "                                                   'scholarship holder']),\n",
       "                                                 ('num', StandardScaler(),\n",
       "                                                  ['unemployment rate',\n",
       "                                                   'gdp'])])),\n",
       "                ('classifier', KNeighborsClassifier())])"
      ]
     },
     "execution_count": 25,
     "metadata": {},
     "output_type": "execute_result"
    }
   ],
   "source": [
    "knn.fit(X_train, y_train)"
   ]
  },
  {
   "cell_type": "code",
   "execution_count": 26,
   "metadata": {},
   "outputs": [],
   "source": [
    "y_pred_knn = knn.predict(X_test)"
   ]
  },
  {
   "cell_type": "code",
   "execution_count": 27,
   "metadata": {},
   "outputs": [
    {
     "name": "stdout",
     "output_type": "stream",
     "text": [
      "Accuracy Score: 0.7272727272727273\n"
     ]
    }
   ],
   "source": [
    "accuracy = accuracy_score(y_test, y_pred_knn)\n",
    "print(\"Accuracy Score:\", accuracy)"
   ]
  },
  {
   "cell_type": "markdown",
   "metadata": {},
   "source": [
    "#### Gradient Boosting"
   ]
  },
  {
   "cell_type": "code",
   "execution_count": 28,
   "metadata": {},
   "outputs": [],
   "source": [
    "gb = Pipeline([\n",
    "    ('preprocessor', preprocessor),\n",
    "    ('classifier', GradientBoostingClassifier())\n",
    "])"
   ]
  },
  {
   "cell_type": "code",
   "execution_count": 29,
   "metadata": {
    "collapsed": true
   },
   "outputs": [
    {
     "data": {
      "text/plain": [
       "Pipeline(steps=[('preprocessor',\n",
       "                 ColumnTransformer(transformers=[('cat', OneHotEncoder(),\n",
       "                                                  ['marital status', 'course',\n",
       "                                                   'daytime/evening attendance',\n",
       "                                                   'displaced', 'debtor',\n",
       "                                                   'tuition fees up to date',\n",
       "                                                   'gender',\n",
       "                                                   'scholarship holder']),\n",
       "                                                 ('num', StandardScaler(),\n",
       "                                                  ['unemployment rate',\n",
       "                                                   'gdp'])])),\n",
       "                ('classifier', GradientBoostingClassifier())])"
      ]
     },
     "execution_count": 29,
     "metadata": {},
     "output_type": "execute_result"
    }
   ],
   "source": [
    "gb.fit(X_train, y_train)"
   ]
  },
  {
   "cell_type": "code",
   "execution_count": 30,
   "metadata": {},
   "outputs": [],
   "source": [
    "y_pred_gb = gb.predict(X_test)"
   ]
  },
  {
   "cell_type": "code",
   "execution_count": 31,
   "metadata": {},
   "outputs": [
    {
     "name": "stdout",
     "output_type": "stream",
     "text": [
      "Accuracy Score: 0.7548209366391184\n"
     ]
    }
   ],
   "source": [
    "accuracy = accuracy_score(y_test, y_pred_gb)\n",
    "print(\"Accuracy Score:\", accuracy)"
   ]
  },
  {
   "cell_type": "markdown",
   "metadata": {},
   "source": [
    "## Neural Network Model"
   ]
  },
  {
   "cell_type": "code",
   "execution_count": 60,
   "metadata": {},
   "outputs": [],
   "source": [
    "data1 = data[data['target'] != \"Enrolled\"]"
   ]
  },
  {
   "cell_type": "code",
   "execution_count": 71,
   "metadata": {},
   "outputs": [
    {
     "name": "stderr",
     "output_type": "stream",
     "text": [
      "<ipython-input-71-c102e49605da>:1: SettingWithCopyWarning: \n",
      "A value is trying to be set on a copy of a slice from a DataFrame.\n",
      "Try using .loc[row_indexer,col_indexer] = value instead\n",
      "\n",
      "See the caveats in the documentation: https://pandas.pydata.org/pandas-docs/stable/user_guide/indexing.html#returning-a-view-versus-a-copy\n",
      "  data1['target'] = data1['target'].apply(lambda x: 1 if x == 'Graduate' else 0)\n"
     ]
    }
   ],
   "source": [
    "data1['target'] = data1['target'].apply(lambda x: 1 if x == 'Graduate' else 0)"
   ]
  },
  {
   "cell_type": "code",
   "execution_count": 73,
   "metadata": {},
   "outputs": [],
   "source": [
    "X = data1.drop('target', axis=1)\n",
    "y = data1['target']\n",
    "X_train, X_test, y_train, y_test = train_test_split(X, y, test_size=0.2)"
   ]
  },
  {
   "cell_type": "code",
   "execution_count": 74,
   "metadata": {},
   "outputs": [],
   "source": [
    "model = tf.keras.Sequential()\n",
    "model.add(tf.keras.layers.Dense(units=10, activation='relu', input_shape=(34, )))\n",
    "model.add(tf.keras.layers.Dense(units=10, activation='relu'))\n",
    "model.add(tf.keras.layers.Dense(units=1, activation='sigmoid'))"
   ]
  },
  {
   "cell_type": "code",
   "execution_count": 75,
   "metadata": {},
   "outputs": [],
   "source": [
    "model.compile(optimizer='adam', loss='binary_crossentropy', metrics=['accuracy'])"
   ]
  },
  {
   "cell_type": "code",
   "execution_count": 76,
   "metadata": {
    "collapsed": true
   },
   "outputs": [
    {
     "name": "stdout",
     "output_type": "stream",
     "text": [
      "Epoch 1/100\n",
      "91/91 [==============================] - 0s 1ms/step - loss: 1.4020 - accuracy: 0.6260\n",
      "Epoch 2/100\n",
      "91/91 [==============================] - 0s 1ms/step - loss: 0.4524 - accuracy: 0.7992\n",
      "Epoch 3/100\n",
      "91/91 [==============================] - 0s 1ms/step - loss: 0.4029 - accuracy: 0.8254\n",
      "Epoch 4/100\n",
      "91/91 [==============================] - 0s 1ms/step - loss: 0.3744 - accuracy: 0.8388\n",
      "Epoch 5/100\n",
      "91/91 [==============================] - 0s 1ms/step - loss: 0.3453 - accuracy: 0.8571\n",
      "Epoch 6/100\n",
      "91/91 [==============================] - 0s 1ms/step - loss: 0.3295 - accuracy: 0.8650\n",
      "Epoch 7/100\n",
      "91/91 [==============================] - 0s 1ms/step - loss: 0.3065 - accuracy: 0.8774\n",
      "Epoch 8/100\n",
      "91/91 [==============================] - 0s 1ms/step - loss: 0.2900 - accuracy: 0.8853\n",
      "Epoch 9/100\n",
      "91/91 [==============================] - 0s 1ms/step - loss: 0.2818 - accuracy: 0.8915\n",
      "Epoch 10/100\n",
      "91/91 [==============================] - 0s 1ms/step - loss: 0.2724 - accuracy: 0.8915\n",
      "Epoch 11/100\n",
      "91/91 [==============================] - 0s 1ms/step - loss: 0.2663 - accuracy: 0.8929\n",
      "Epoch 12/100\n",
      "91/91 [==============================] - 0s 1ms/step - loss: 0.2639 - accuracy: 0.8994\n",
      "Epoch 13/100\n",
      "91/91 [==============================] - 0s 1ms/step - loss: 0.2555 - accuracy: 0.9001\n",
      "Epoch 14/100\n",
      "91/91 [==============================] - 0s 1ms/step - loss: 0.2538 - accuracy: 0.9012\n",
      "Epoch 15/100\n",
      "91/91 [==============================] - 0s 1ms/step - loss: 0.2488 - accuracy: 0.9074\n",
      "Epoch 16/100\n",
      "91/91 [==============================] - 0s 1ms/step - loss: 0.2450 - accuracy: 0.9081\n",
      "Epoch 17/100\n",
      "91/91 [==============================] - 0s 1ms/step - loss: 0.2426 - accuracy: 0.9070\n",
      "Epoch 18/100\n",
      "91/91 [==============================] - 0s 1ms/step - loss: 0.2434 - accuracy: 0.9050\n",
      "Epoch 19/100\n",
      "91/91 [==============================] - 0s 1ms/step - loss: 0.2452 - accuracy: 0.9074\n",
      "Epoch 20/100\n",
      "91/91 [==============================] - 0s 1ms/step - loss: 0.2457 - accuracy: 0.9063\n",
      "Epoch 21/100\n",
      "91/91 [==============================] - 0s 1ms/step - loss: 0.2407 - accuracy: 0.9060\n",
      "Epoch 22/100\n",
      "91/91 [==============================] - 0s 1ms/step - loss: 0.2397 - accuracy: 0.9081\n",
      "Epoch 23/100\n",
      "91/91 [==============================] - 0s 1ms/step - loss: 0.2361 - accuracy: 0.9118\n",
      "Epoch 24/100\n",
      "91/91 [==============================] - 0s 1ms/step - loss: 0.2400 - accuracy: 0.9136\n",
      "Epoch 25/100\n",
      "91/91 [==============================] - 0s 1ms/step - loss: 0.2329 - accuracy: 0.9143\n",
      "Epoch 26/100\n",
      "91/91 [==============================] - 0s 1ms/step - loss: 0.2340 - accuracy: 0.9132: 0s - loss: 0.2375 - accuracy: 0.\n",
      "Epoch 27/100\n",
      "91/91 [==============================] - 0s 1ms/step - loss: 0.2333 - accuracy: 0.9149\n",
      "Epoch 28/100\n",
      "91/91 [==============================] - 0s 1ms/step - loss: 0.2353 - accuracy: 0.9115\n",
      "Epoch 29/100\n",
      "91/91 [==============================] - 0s 1ms/step - loss: 0.2298 - accuracy: 0.9163\n",
      "Epoch 30/100\n",
      "91/91 [==============================] - 0s 1ms/step - loss: 0.2273 - accuracy: 0.9156\n",
      "Epoch 31/100\n",
      "91/91 [==============================] - 0s 1ms/step - loss: 0.2255 - accuracy: 0.9191\n",
      "Epoch 32/100\n",
      "91/91 [==============================] - 0s 1ms/step - loss: 0.2265 - accuracy: 0.9174\n",
      "Epoch 33/100\n",
      "91/91 [==============================] - 0s 1ms/step - loss: 0.2293 - accuracy: 0.9146\n",
      "Epoch 34/100\n",
      "91/91 [==============================] - 0s 1ms/step - loss: 0.2255 - accuracy: 0.9136\n",
      "Epoch 35/100\n",
      "91/91 [==============================] - 0s 1ms/step - loss: 0.2236 - accuracy: 0.9156\n",
      "Epoch 36/100\n",
      "91/91 [==============================] - 0s 1ms/step - loss: 0.2264 - accuracy: 0.9191\n",
      "Epoch 37/100\n",
      "91/91 [==============================] - 0s 1ms/step - loss: 0.2273 - accuracy: 0.9160\n",
      "Epoch 38/100\n",
      "91/91 [==============================] - 0s 1ms/step - loss: 0.2222 - accuracy: 0.9160\n",
      "Epoch 39/100\n",
      "91/91 [==============================] - 0s 1ms/step - loss: 0.2197 - accuracy: 0.9167\n",
      "Epoch 40/100\n",
      "91/91 [==============================] - 0s 1ms/step - loss: 0.2213 - accuracy: 0.9187\n",
      "Epoch 41/100\n",
      "91/91 [==============================] - 0s 1ms/step - loss: 0.2218 - accuracy: 0.9180\n",
      "Epoch 42/100\n",
      "91/91 [==============================] - 0s 1ms/step - loss: 0.2210 - accuracy: 0.9180\n",
      "Epoch 43/100\n",
      "91/91 [==============================] - 0s 1ms/step - loss: 0.2187 - accuracy: 0.9225\n",
      "Epoch 44/100\n",
      "91/91 [==============================] - 0s 1ms/step - loss: 0.2200 - accuracy: 0.9215\n",
      "Epoch 45/100\n",
      "91/91 [==============================] - 0s 1ms/step - loss: 0.2202 - accuracy: 0.9170\n",
      "Epoch 46/100\n",
      "91/91 [==============================] - 0s 1ms/step - loss: 0.2176 - accuracy: 0.9201\n",
      "Epoch 47/100\n",
      "91/91 [==============================] - 0s 1ms/step - loss: 0.2167 - accuracy: 0.9177\n",
      "Epoch 48/100\n",
      "91/91 [==============================] - 0s 1ms/step - loss: 0.2188 - accuracy: 0.9194\n",
      "Epoch 49/100\n",
      "91/91 [==============================] - 0s 1ms/step - loss: 0.2162 - accuracy: 0.9253\n",
      "Epoch 50/100\n",
      "91/91 [==============================] - 0s 1ms/step - loss: 0.2167 - accuracy: 0.9218\n",
      "Epoch 51/100\n",
      "91/91 [==============================] - 0s 1ms/step - loss: 0.2147 - accuracy: 0.9222\n",
      "Epoch 52/100\n",
      "91/91 [==============================] - 0s 1ms/step - loss: 0.2146 - accuracy: 0.9236\n",
      "Epoch 53/100\n",
      "91/91 [==============================] - 0s 1ms/step - loss: 0.2153 - accuracy: 0.9163\n",
      "Epoch 54/100\n",
      "91/91 [==============================] - 0s 1ms/step - loss: 0.2161 - accuracy: 0.9218\n",
      "Epoch 55/100\n",
      "91/91 [==============================] - 0s 1ms/step - loss: 0.2153 - accuracy: 0.9194\n",
      "Epoch 56/100\n",
      "91/91 [==============================] - 0s 1ms/step - loss: 0.2174 - accuracy: 0.9201\n",
      "Epoch 57/100\n",
      "91/91 [==============================] - 0s 1ms/step - loss: 0.2134 - accuracy: 0.9225\n",
      "Epoch 58/100\n",
      "91/91 [==============================] - 0s 1ms/step - loss: 0.2132 - accuracy: 0.9211\n",
      "Epoch 59/100\n",
      "91/91 [==============================] - 0s 1ms/step - loss: 0.2144 - accuracy: 0.9222\n",
      "Epoch 60/100\n",
      "91/91 [==============================] - 0s 1ms/step - loss: 0.2130 - accuracy: 0.9229\n",
      "Epoch 61/100\n",
      "91/91 [==============================] - 0s 1ms/step - loss: 0.2119 - accuracy: 0.9205\n",
      "Epoch 62/100\n",
      "91/91 [==============================] - 0s 1ms/step - loss: 0.2098 - accuracy: 0.9211\n",
      "Epoch 63/100\n",
      "91/91 [==============================] - 0s 1ms/step - loss: 0.2130 - accuracy: 0.9211\n",
      "Epoch 64/100\n",
      "91/91 [==============================] - 0s 2ms/step - loss: 0.2113 - accuracy: 0.9184\n",
      "Epoch 65/100\n",
      "91/91 [==============================] - 0s 1ms/step - loss: 0.2117 - accuracy: 0.9218\n",
      "Epoch 66/100\n",
      "91/91 [==============================] - 0s 990us/step - loss: 0.2089 - accuracy: 0.9180\n",
      "Epoch 67/100\n",
      "91/91 [==============================] - 0s 885us/step - loss: 0.2128 - accuracy: 0.9205\n",
      "Epoch 68/100\n",
      "91/91 [==============================] - 0s 1ms/step - loss: 0.2083 - accuracy: 0.9222\n",
      "Epoch 69/100\n",
      "91/91 [==============================] - 0s 1ms/step - loss: 0.2104 - accuracy: 0.9225\n",
      "Epoch 70/100\n",
      "91/91 [==============================] - 0s 1ms/step - loss: 0.2085 - accuracy: 0.9229\n",
      "Epoch 71/100\n",
      "91/91 [==============================] - 0s 1ms/step - loss: 0.2073 - accuracy: 0.9242\n",
      "Epoch 72/100\n",
      "91/91 [==============================] - 0s 1ms/step - loss: 0.2088 - accuracy: 0.9222\n",
      "Epoch 73/100\n",
      "91/91 [==============================] - 0s 1ms/step - loss: 0.2084 - accuracy: 0.9218\n",
      "Epoch 74/100\n",
      "91/91 [==============================] - 0s 1ms/step - loss: 0.2071 - accuracy: 0.9270\n",
      "Epoch 75/100\n",
      "91/91 [==============================] - 0s 1ms/step - loss: 0.2089 - accuracy: 0.9253\n",
      "Epoch 76/100\n",
      "91/91 [==============================] - 0s 1ms/step - loss: 0.2074 - accuracy: 0.9218\n",
      "Epoch 77/100\n",
      "91/91 [==============================] - 0s 945us/step - loss: 0.2060 - accuracy: 0.9222\n",
      "Epoch 78/100\n",
      "91/91 [==============================] - 0s 1ms/step - loss: 0.2052 - accuracy: 0.9232\n",
      "Epoch 79/100\n",
      "91/91 [==============================] - 0s 1ms/step - loss: 0.2049 - accuracy: 0.9208\n",
      "Epoch 80/100\n",
      "91/91 [==============================] - 0s 1ms/step - loss: 0.2056 - accuracy: 0.9263\n",
      "Epoch 81/100\n",
      "91/91 [==============================] - 0s 965us/step - loss: 0.2060 - accuracy: 0.9249\n",
      "Epoch 82/100\n"
     ]
    },
    {
     "name": "stdout",
     "output_type": "stream",
     "text": [
      "91/91 [==============================] - 0s 1ms/step - loss: 0.2047 - accuracy: 0.9232\n",
      "Epoch 83/100\n",
      "91/91 [==============================] - 0s 1ms/step - loss: 0.2098 - accuracy: 0.9184\n",
      "Epoch 84/100\n",
      "91/91 [==============================] - 0s 1ms/step - loss: 0.2023 - accuracy: 0.9270\n",
      "Epoch 85/100\n",
      "91/91 [==============================] - 0s 1ms/step - loss: 0.2025 - accuracy: 0.9242\n",
      "Epoch 86/100\n",
      "91/91 [==============================] - 0s 924us/step - loss: 0.2025 - accuracy: 0.9232\n",
      "Epoch 87/100\n",
      "91/91 [==============================] - 0s 921us/step - loss: 0.2056 - accuracy: 0.9194\n",
      "Epoch 88/100\n",
      "91/91 [==============================] - 0s 1ms/step - loss: 0.2022 - accuracy: 0.9242\n",
      "Epoch 89/100\n",
      "91/91 [==============================] - 0s 1ms/step - loss: 0.2010 - accuracy: 0.9270\n",
      "Epoch 90/100\n",
      "91/91 [==============================] - 0s 1ms/step - loss: 0.2009 - accuracy: 0.9267\n",
      "Epoch 91/100\n",
      "91/91 [==============================] - 0s 980us/step - loss: 0.2023 - accuracy: 0.9211\n",
      "Epoch 92/100\n",
      "91/91 [==============================] - 0s 888us/step - loss: 0.2004 - accuracy: 0.9249\n",
      "Epoch 93/100\n",
      "91/91 [==============================] - 0s 1ms/step - loss: 0.1992 - accuracy: 0.9253\n",
      "Epoch 94/100\n",
      "91/91 [==============================] - 0s 1ms/step - loss: 0.1984 - accuracy: 0.9236\n",
      "Epoch 95/100\n",
      "91/91 [==============================] - 0s 1ms/step - loss: 0.2017 - accuracy: 0.9256\n",
      "Epoch 96/100\n",
      "91/91 [==============================] - 0s 998us/step - loss: 0.2005 - accuracy: 0.9260\n",
      "Epoch 97/100\n",
      "91/91 [==============================] - 0s 1ms/step - loss: 0.1984 - accuracy: 0.9267\n",
      "Epoch 98/100\n",
      "91/91 [==============================] - 0s 1ms/step - loss: 0.2011 - accuracy: 0.9218\n",
      "Epoch 99/100\n",
      "91/91 [==============================] - 0s 1ms/step - loss: 0.2045 - accuracy: 0.9211\n",
      "Epoch 100/100\n",
      "91/91 [==============================] - 0s 1ms/step - loss: 0.1974 - accuracy: 0.9256\n"
     ]
    },
    {
     "data": {
      "text/plain": [
       "<tensorflow.python.keras.callbacks.History at 0x233b958eb50>"
      ]
     },
     "execution_count": 76,
     "metadata": {},
     "output_type": "execute_result"
    }
   ],
   "source": [
    "model.fit(X_train, y_train, epochs=100)"
   ]
  },
  {
   "cell_type": "code",
   "execution_count": 77,
   "metadata": {},
   "outputs": [
    {
     "name": "stdout",
     "output_type": "stream",
     "text": [
      "23/23 [==============================] - 0s 1ms/step - loss: 0.2544 - accuracy: 0.9091\n",
      "Test Accuracy: 0.9090909361839294\n"
     ]
    }
   ],
   "source": [
    "test_loss, test_accuracy = model.evaluate(X_test, y_test)\n",
    "print(\"Test Accuracy: {}\".format(test_accuracy))"
   ]
  },
  {
   "cell_type": "code",
   "execution_count": 81,
   "metadata": {},
   "outputs": [],
   "source": [
    "y_pred = model.predict(X_test)"
   ]
  },
  {
   "cell_type": "code",
   "execution_count": 82,
   "metadata": {},
   "outputs": [],
   "source": [
    "y_pred_class = (y_pred > 0.5).astype(int)"
   ]
  },
  {
   "cell_type": "code",
   "execution_count": 83,
   "metadata": {},
   "outputs": [],
   "source": [
    "cm = confusion_matrix(y_test, y_pred_class)"
   ]
  },
  {
   "cell_type": "code",
   "execution_count": 85,
   "metadata": {},
   "outputs": [
    {
     "data": {
      "text/plain": [
       "array([[202,  47],\n",
       "       [ 19, 458]], dtype=int64)"
      ]
     },
     "execution_count": 85,
     "metadata": {},
     "output_type": "execute_result"
    }
   ],
   "source": [
    "cm"
   ]
  },
  {
   "cell_type": "code",
   "execution_count": null,
   "metadata": {},
   "outputs": [],
   "source": []
  }
 ],
 "metadata": {
  "kernelspec": {
   "display_name": "Python (learn-env)",
   "language": "python",
   "name": "learn-env"
  },
  "language_info": {
   "codemirror_mode": {
    "name": "ipython",
    "version": 3
   },
   "file_extension": ".py",
   "mimetype": "text/x-python",
   "name": "python",
   "nbconvert_exporter": "python",
   "pygments_lexer": "ipython3",
   "version": "3.8.5"
  }
 },
 "nbformat": 4,
 "nbformat_minor": 4
}
